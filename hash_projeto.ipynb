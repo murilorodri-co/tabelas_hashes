{
 "cells": [
  {
   "cell_type": "code",
   "execution_count": 13,
   "id": "0977032f-099a-4686-baae-7259343ec8d8",
   "metadata": {},
   "outputs": [
    {
     "data": {
      "text/html": [
       "<div>\n",
       "<style scoped>\n",
       "    .dataframe tbody tr th:only-of-type {\n",
       "        vertical-align: middle;\n",
       "    }\n",
       "\n",
       "    .dataframe tbody tr th {\n",
       "        vertical-align: top;\n",
       "    }\n",
       "\n",
       "    .dataframe thead th {\n",
       "        text-align: right;\n",
       "    }\n",
       "</style>\n",
       "<table border=\"1\" class=\"dataframe\">\n",
       "  <thead>\n",
       "    <tr style=\"text-align: right;\">\n",
       "      <th></th>\n",
       "      <th>ID</th>\n",
       "      <th>Nome do Jogo</th>\n",
       "      <th>Plataforma</th>\n",
       "      <th>Gênero</th>\n",
       "      <th>Ano</th>\n",
       "      <th>Nota Média</th>\n",
       "    </tr>\n",
       "  </thead>\n",
       "  <tbody>\n",
       "    <tr>\n",
       "      <th>0</th>\n",
       "      <td>1</td>\n",
       "      <td>League of Legends 1</td>\n",
       "      <td>Xbox One</td>\n",
       "      <td>Sandbox</td>\n",
       "      <td>2008</td>\n",
       "      <td>7.3</td>\n",
       "    </tr>\n",
       "    <tr>\n",
       "      <th>1</th>\n",
       "      <td>2</td>\n",
       "      <td>Red Dead Redemption 2 2</td>\n",
       "      <td>PS4</td>\n",
       "      <td>Ação</td>\n",
       "      <td>2018</td>\n",
       "      <td>9.4</td>\n",
       "    </tr>\n",
       "    <tr>\n",
       "      <th>2</th>\n",
       "      <td>3</td>\n",
       "      <td>Hollow Knight 3</td>\n",
       "      <td>Multi</td>\n",
       "      <td>Sandbox</td>\n",
       "      <td>2016</td>\n",
       "      <td>8.4</td>\n",
       "    </tr>\n",
       "    <tr>\n",
       "      <th>3</th>\n",
       "      <td>4</td>\n",
       "      <td>Final Fantasy VII Remake 4</td>\n",
       "      <td>Multi</td>\n",
       "      <td>Ação</td>\n",
       "      <td>2021</td>\n",
       "      <td>9.2</td>\n",
       "    </tr>\n",
       "    <tr>\n",
       "      <th>4</th>\n",
       "      <td>5</td>\n",
       "      <td>Little Nightmares II 5</td>\n",
       "      <td>Xbox One</td>\n",
       "      <td>FPS</td>\n",
       "      <td>2010</td>\n",
       "      <td>7.4</td>\n",
       "    </tr>\n",
       "  </tbody>\n",
       "</table>\n",
       "</div>"
      ],
      "text/plain": [
       "   ID                Nome do Jogo Plataforma   Gênero   Ano  Nota Média\n",
       "0   1         League of Legends 1   Xbox One  Sandbox  2008         7.3\n",
       "1   2     Red Dead Redemption 2 2        PS4     Ação  2018         9.4\n",
       "2   3             Hollow Knight 3      Multi  Sandbox  2016         8.4\n",
       "3   4  Final Fantasy VII Remake 4      Multi     Ação  2021         9.2\n",
       "4   5      Little Nightmares II 5   Xbox One      FPS  2010         7.4"
      ]
     },
     "execution_count": 13,
     "metadata": {},
     "output_type": "execute_result"
    }
   ],
   "source": [
    "import pandas as pd\n",
    "\n",
    "df = pd.read_csv('dataset_games_200.csv')\n",
    "\n",
    "df.head()"
   ]
  },
  {
   "cell_type": "code",
   "execution_count": 11,
   "id": "9f7ea07e-00b9-4a52-96f1-1f098f6cdc5e",
   "metadata": {},
   "outputs": [
    {
     "name": "stdout",
     "output_type": "stream",
     "text": [
      "      ID         Nome do Jogo Plataforma   Gênero   Ano  Nota Média\n",
      "0      1  League of Legends 1   Xbox One  Sandbox  2008         7.3\n",
      "100  101  League of Legends 1   Xbox One  Sandbox  2008         7.3\n"
     ]
    }
   ],
   "source": [
    "resultado = df[df['Nome do Jogo'] == 'League of Legends 1']\n",
    "\n",
    "# Mostrar o resultado\n",
    "print(resultado)"
   ]
  },
  {
   "cell_type": "code",
   "execution_count": 48,
   "id": "bdb45a97-df13-42c7-854e-f5338756413a",
   "metadata": {},
   "outputs": [
    {
     "name": "stdout",
     "output_type": "stream",
     "text": [
      "{'ID': '1', 'Nome do Jogo': 'League of Legends 1', 'Plataforma': 'Xbox One', 'Gênero': 'Sandbox', 'Ano': '2008', 'Nota Média': '7.3', 'Hash': 'ef265d2ffaa656692cf8ac59f49928ea'}\n",
      "{'ID': '2', 'Nome do Jogo': 'Red Dead Redemption 2 2', 'Plataforma': 'PS4', 'Gênero': 'Ação', 'Ano': '2018', 'Nota Média': '9.4', 'Hash': 'f331eddc70c9f20d0c65a6d81aabe59c'}\n",
      "{'ID': '3', 'Nome do Jogo': 'Hollow Knight 3', 'Plataforma': 'Multi', 'Gênero': 'Sandbox', 'Ano': '2016', 'Nota Média': '8.4', 'Hash': '256eb2275bf21210d32f5cd10bef7f7f'}\n",
      "{'ID': '4', 'Nome do Jogo': 'Final Fantasy VII Remake 4', 'Plataforma': 'Multi', 'Gênero': 'Ação', 'Ano': '2021', 'Nota Média': '9.2', 'Hash': 'd6b2cd578d3a79124c5f65a3f8fc332b'}\n",
      "{'ID': '5', 'Nome do Jogo': 'Little Nightmares II 5', 'Plataforma': 'Xbox One', 'Gênero': 'FPS', 'Ano': '2010', 'Nota Média': '7.4', 'Hash': 'b6727eb74b6a06802f996515a8e66340'}\n",
      "{'ID': '6', 'Nome do Jogo': 'Counter-Strike: GO 6', 'Plataforma': 'PS4', 'Gênero': 'Aventura', 'Ano': '2005', 'Nota Média': '9.7', 'Hash': 'e18b615206537e48381abfab44309ad4'}\n",
      "{'ID': '7', 'Nome do Jogo': 'Death Stranding 7', 'Plataforma': 'PC', 'Gênero': 'Ação', 'Ano': '2013', 'Nota Média': '10.0', 'Hash': 'e0172ea7850a72400a55051cc3017f6f'}\n",
      "{'ID': '8', 'Nome do Jogo': 'Dota 2 8', 'Plataforma': 'PS5', 'Gênero': 'Aventura', 'Ano': '2020', 'Nota Média': '9.3', 'Hash': 'ea2b3519c7f00083b058fa2e97b2d4c2'}\n",
      "{'ID': '9', 'Nome do Jogo': 'Monster Hunter World 9', 'Plataforma': 'Xbox One', 'Gênero': 'FPS', 'Ano': '2005', 'Nota Média': '9.0', 'Hash': 'ef81460a3faac47713647630c25c1cca'}\n",
      "{'ID': '10', 'Nome do Jogo': 'Returnal 10', 'Plataforma': 'PS5', 'Gênero': 'Aventura', 'Ano': '2020', 'Nota Média': '9.4', 'Hash': '0095d582fd210c63fd73c50cc39b2c25'}\n"
     ]
    }
   ],
   "source": [
    "import csv\n",
    "import hashlib\n",
    "\n",
    "# Abrir o CSV\n",
    "with open('dataset_games_200.csv', newline='', encoding='utf-8') as csvfile:\n",
    "    reader = csv.DictReader(csvfile)\n",
    "    \n",
    "    # Lista para armazenar dados com hash\n",
    "    dados_com_hash = []\n",
    "    \n",
    "    for row in reader:\n",
    "        # Concatenar os valores da linha (exceto ID se quiser)\n",
    "        concatenacao = f\"{row['Nome do Jogo']}{row['Plataforma']}{row['Gênero']}{row['Ano']}{row['Nota Média']}\"\n",
    "        \n",
    "        # Gerar hash usando hashlib (md5, sha256, etc.)\n",
    "        hash_valor = hashlib.md5(concatenacao.encode()).hexdigest()\n",
    "        \n",
    "        # Adicionar o hash na linha\n",
    "        row['Hash'] = hash_valor\n",
    "        \n",
    "        dados_com_hash.append(row)\n",
    "\n",
    "# Exibir os primeiros 5 registros com hash\n",
    "for item in dados_com_hash[:10]:\n",
    "    print(item)"
   ]
  },
  {
   "cell_type": "markdown",
   "id": "042c9c2f-fe4a-4a24-b2b1-a39cd0d876d6",
   "metadata": {},
   "source": [
    "## **Pesquisa pelo nome**"
   ]
  },
  {
   "cell_type": "code",
   "execution_count": 27,
   "id": "c90d518a-07be-429b-9771-032aa4aa40d6",
   "metadata": {},
   "outputs": [
    {
     "name": "stdout",
     "output_type": "stream",
     "text": [
      "{'ID': '1', 'Nome do Jogo': 'League of Legends 1', 'Plataforma': 'Xbox One', 'Gênero': 'Sandbox', 'Ano': '2008', 'Nota Média': '7.3', 'Hash': 'ef265d2ffaa656692cf8ac59f49928ea'}\n",
      "{'ID': '101', 'Nome do Jogo': 'League of Legends 1', 'Plataforma': 'Xbox One', 'Gênero': 'Sandbox', 'Ano': '2008', 'Nota Média': '7.3', 'Hash': 'ef265d2ffaa656692cf8ac59f49928ea'}\n"
     ]
    }
   ],
   "source": [
    "nome_procurado = \"League of Legends 1\"\n",
    "\n",
    "resultados = [row for row in dados_com_hash if row['Nome do Jogo'] == nome_procurado]\n",
    "\n",
    "# Exibir os resultados\n",
    "for item in resultados:\n",
    "    print(item)"
   ]
  },
  {
   "cell_type": "markdown",
   "id": "3173f861-bf2c-43b7-94bf-ce0408eb06fd",
   "metadata": {},
   "source": [
    "## **Pesquisa pelo id hash**"
   ]
  },
  {
   "cell_type": "code",
   "execution_count": 45,
   "id": "6bab8b2c-120d-4983-bb33-c56221a36dd1",
   "metadata": {},
   "outputs": [
    {
     "name": "stdout",
     "output_type": "stream",
     "text": [
      "{'ID': '1', 'Nome do Jogo': 'League of Legends 1', 'Plataforma': 'Xbox One', 'Gênero': 'Sandbox', 'Ano': '2008', 'Nota Média': '7.3', 'Hash': 'ef265d2ffaa656692cf8ac59f49928ea'}\n",
      "{'ID': '101', 'Nome do Jogo': 'League of Legends 1', 'Plataforma': 'Xbox One', 'Gênero': 'Sandbox', 'Ano': '2008', 'Nota Média': '7.3', 'Hash': 'ef265d2ffaa656692cf8ac59f49928ea'}\n"
     ]
    }
   ],
   "source": [
    "hash_procurado = 'ef265d2ffaa656692cf8ac59f49928ea'  # o hash real que apareceu!\n",
    "\n",
    "resultados = [row for row in dados_com_hash if row['Hash'] == hash_procurado]\n",
    "\n",
    "for item in resultados:\n",
    "    print(item)"
   ]
  }
 ],
 "metadata": {
  "kernelspec": {
   "display_name": "Python 3 (ipykernel)",
   "language": "python",
   "name": "python3"
  },
  "language_info": {
   "codemirror_mode": {
    "name": "ipython",
    "version": 3
   },
   "file_extension": ".py",
   "mimetype": "text/x-python",
   "name": "python",
   "nbconvert_exporter": "python",
   "pygments_lexer": "ipython3",
   "version": "3.12.7"
  }
 },
 "nbformat": 4,
 "nbformat_minor": 5
}
